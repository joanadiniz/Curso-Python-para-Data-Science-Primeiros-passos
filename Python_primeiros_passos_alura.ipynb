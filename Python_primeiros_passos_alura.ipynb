{
  "nbformat": 4,
  "nbformat_minor": 0,
  "metadata": {
    "colab": {
      "name": "Python-primeiros-passos-alura.ipynb",
      "provenance": [],
      "toc_visible": true
    },
    "kernelspec": {
      "name": "python3",
      "display_name": "Python 3"
    },
    "language_info": {
      "name": "python"
    }
  },
  "cells": [
    {
      "cell_type": "code",
      "metadata": {
        "id": "4Hd6aGmfS3Ew"
      },
      "source": [
        ""
      ],
      "execution_count": null,
      "outputs": []
    },
    {
      "cell_type": "markdown",
      "metadata": {
        "id": "xZTdYDxGNJJw"
      },
      "source": [
        "## Conhecimentos do curso"
      ]
    },
    {
      "cell_type": "markdown",
      "metadata": {
        "id": "j-SSP9S-NN79"
      },
      "source": [
        "* variáveis e seus diferentes tipos \n",
        "* funções\n",
        "* parâmetros\n",
        "* condicionais\n",
        "* listas\n",
        "* imports\n",
        "* Matplotlib"
      ]
    },
    {
      "cell_type": "markdown",
      "metadata": {
        "id": "1yjq4dBgTKjF"
      },
      "source": [
        "## Lógica de programação com Python "
      ]
    },
    {
      "cell_type": "code",
      "metadata": {
        "colab": {
          "base_uri": "https://localhost:8080/"
        },
        "id": "ee-MREiPTR1U",
        "outputId": "80e74406-560b-46be-fbdf-e9075b174218"
      },
      "source": [
        "1+1"
      ],
      "execution_count": 1,
      "outputs": [
        {
          "output_type": "execute_result",
          "data": {
            "text/plain": [
              "2"
            ]
          },
          "metadata": {
            "tags": []
          },
          "execution_count": 1
        }
      ]
    },
    {
      "cell_type": "code",
      "metadata": {
        "colab": {
          "base_uri": "https://localhost:8080/",
          "height": 34
        },
        "id": "1QejYxX6Ta7F",
        "outputId": "4bfc6dcd-153e-400b-cc3b-511e63b45e3b"
      },
      "source": [
        "'Joana'"
      ],
      "execution_count": 3,
      "outputs": [
        {
          "output_type": "execute_result",
          "data": {
            "application/vnd.google.colaboratory.intrinsic+json": {
              "type": "string"
            },
            "text/plain": [
              "'Joana'"
            ]
          },
          "metadata": {
            "tags": []
          },
          "execution_count": 3
        }
      ]
    },
    {
      "cell_type": "code",
      "metadata": {
        "id": "5G8dJJw-TdDX"
      },
      "source": [
        "nome = 'Joana'"
      ],
      "execution_count": 6,
      "outputs": []
    },
    {
      "cell_type": "code",
      "metadata": {
        "colab": {
          "base_uri": "https://localhost:8080/",
          "height": 34
        },
        "id": "c-Zk_AWWTqz_",
        "outputId": "f0a24ad7-630a-4b33-f258-219f40756e13"
      },
      "source": [
        "nome"
      ],
      "execution_count": 7,
      "outputs": [
        {
          "output_type": "execute_result",
          "data": {
            "application/vnd.google.colaboratory.intrinsic+json": {
              "type": "string"
            },
            "text/plain": [
              "'Joana'"
            ]
          },
          "metadata": {
            "tags": []
          },
          "execution_count": 7
        }
      ]
    },
    {
      "cell_type": "code",
      "metadata": {
        "id": "y-hryZiET-d5"
      },
      "source": [
        "idade = 24"
      ],
      "execution_count": 8,
      "outputs": []
    },
    {
      "cell_type": "code",
      "metadata": {
        "colab": {
          "base_uri": "https://localhost:8080/"
        },
        "id": "JDtacklxUJAX",
        "outputId": "724981cd-d1d7-4c29-c803-d8f902c33fe9"
      },
      "source": [
        "idade"
      ],
      "execution_count": 9,
      "outputs": [
        {
          "output_type": "execute_result",
          "data": {
            "text/plain": [
              "24"
            ]
          },
          "metadata": {
            "tags": []
          },
          "execution_count": 9
        }
      ]
    },
    {
      "cell_type": "code",
      "metadata": {
        "colab": {
          "base_uri": "https://localhost:8080/"
        },
        "id": "52mNMFEjUJ-r",
        "outputId": "c896c1ae-5f0a-4652-e323-5fa512ba31a3"
      },
      "source": [
        "print('O nome é Joana e sua idade é 29 anos')"
      ],
      "execution_count": 10,
      "outputs": [
        {
          "output_type": "stream",
          "text": [
            "O nome é Joana e sua idade é 29 anos\n"
          ],
          "name": "stdout"
        }
      ]
    },
    {
      "cell_type": "code",
      "metadata": {
        "colab": {
          "base_uri": "https://localhost:8080/"
        },
        "id": "TsyBrb_tWnUl",
        "outputId": "d1eeff0b-1fb1-4898-9fa0-d63ccd76c155"
      },
      "source": [
        "print (f'O nome é {nome} e sua idade é {idade} anos')"
      ],
      "execution_count": 12,
      "outputs": [
        {
          "output_type": "stream",
          "text": [
            "O nome é Joana e sua idade é 24 anos\n"
          ],
          "name": "stdout"
        }
      ]
    },
    {
      "cell_type": "code",
      "metadata": {
        "id": "wDfsiRN3Wx2T"
      },
      "source": [
        ""
      ],
      "execution_count": null,
      "outputs": []
    },
    {
      "cell_type": "markdown",
      "metadata": {
        "id": "aC2KssSiW8kF"
      },
      "source": [
        "# Criando minha primeira função\n"
      ]
    },
    {
      "cell_type": "code",
      "metadata": {
        "id": "88hSKu6RjMxL"
      },
      "source": [
        "# O def é o código usado para criar uma função"
      ],
      "execution_count": null,
      "outputs": []
    },
    {
      "cell_type": "code",
      "metadata": {
        "id": "PG9Hut3VXN7J"
      },
      "source": [
        "def saudacao():\n",
        "  nome = input ('Qual o seu nome? ')\n",
        "  print(f'olá {nome}')"
      ],
      "execution_count": 16,
      "outputs": []
    },
    {
      "cell_type": "code",
      "metadata": {
        "colab": {
          "base_uri": "https://localhost:8080/"
        },
        "id": "Y5gZ80WfZiJp",
        "outputId": "25197f05-9de7-43e8-8fb4-c25215df3f32"
      },
      "source": [
        "saudacao()"
      ],
      "execution_count": 17,
      "outputs": [
        {
          "output_type": "stream",
          "text": [
            "Qual o seu nome? Joana\n",
            "olá Joana\n"
          ],
          "name": "stdout"
        }
      ]
    },
    {
      "cell_type": "code",
      "metadata": {
        "colab": {
          "base_uri": "https://localhost:8080/"
        },
        "id": "GgD0ZR5-ZlEk",
        "outputId": "849bb3c8-8c17-42d3-cf10-ddd1a0c6c423"
      },
      "source": [
        "saudacao()"
      ],
      "execution_count": 18,
      "outputs": [
        {
          "output_type": "stream",
          "text": [
            "Qual o seu nome? Pedro\n",
            "olá Pedro\n"
          ],
          "name": "stdout"
        }
      ]
    },
    {
      "cell_type": "code",
      "metadata": {
        "id": "vv5mn42dZxNX"
      },
      "source": [
        ""
      ],
      "execution_count": null,
      "outputs": []
    },
    {
      "cell_type": "markdown",
      "metadata": {
        "id": "CMXbC4C5bR-5"
      },
      "source": [
        "# Exercício 1 "
      ]
    },
    {
      "cell_type": "code",
      "metadata": {
        "id": "LqM48oGkbZzv"
      },
      "source": [
        "#Juntando o nome e sobrenome em uma função"
      ],
      "execution_count": 19,
      "outputs": []
    },
    {
      "cell_type": "code",
      "metadata": {
        "id": "ZxxpWDOybjDO"
      },
      "source": [
        "def nome_completo():\n",
        "  primeiro_nome = input('Qual seu primeiro nome?')\n",
        "  sobrenome = input('Qual seu sobrenome?')\n",
        "  nome_inteiro = primeiro_nome + ' ' + sobrenome \n",
        "  print(nome_inteiro)\n"
      ],
      "execution_count": 26,
      "outputs": []
    },
    {
      "cell_type": "code",
      "metadata": {
        "colab": {
          "base_uri": "https://localhost:8080/"
        },
        "id": "63ExEEpbcBx8",
        "outputId": "3b7fdd20-f7ec-48c9-a65a-72ea67198801"
      },
      "source": [
        "nome_completo()"
      ],
      "execution_count": 27,
      "outputs": [
        {
          "output_type": "stream",
          "text": [
            "Qual seu primeiro nome?Joana\n",
            "Qual seu sobrenome?Diniz\n",
            "Joana Diniz\n"
          ],
          "name": "stdout"
        }
      ]
    },
    {
      "cell_type": "code",
      "metadata": {
        "id": "Kh-oF2t9cFuD"
      },
      "source": [
        ""
      ],
      "execution_count": null,
      "outputs": []
    },
    {
      "cell_type": "markdown",
      "metadata": {
        "id": "RoZ6SnavfSM-"
      },
      "source": [
        "# Parâmetro\n"
      ]
    },
    {
      "cell_type": "code",
      "metadata": {
        "id": "TDkaK4MhfWdD"
      },
      "source": [
        "nome = 'Tay'"
      ],
      "execution_count": 28,
      "outputs": []
    },
    {
      "cell_type": "code",
      "metadata": {
        "id": "03UJlFVKfe64"
      },
      "source": [
        "def saudacao_com_parametros(nome_da_pessoa):\n",
        "  print(f'Olá {nome_da_pessoa}')"
      ],
      "execution_count": 31,
      "outputs": []
    },
    {
      "cell_type": "code",
      "metadata": {
        "colab": {
          "base_uri": "https://localhost:8080/"
        },
        "id": "srlpO_asfveG",
        "outputId": "cc1a155d-458d-484a-cb03-f9ce865f6233"
      },
      "source": [
        "saudacao_com_parametros(nome)"
      ],
      "execution_count": 32,
      "outputs": [
        {
          "output_type": "stream",
          "text": [
            "Olá Tay\n"
          ],
          "name": "stdout"
        }
      ]
    },
    {
      "cell_type": "markdown",
      "metadata": {
        "id": "H4Ib7MLug4r-"
      },
      "source": [
        "# Condicional"
      ]
    },
    {
      "cell_type": "code",
      "metadata": {
        "id": "AiL4URswjAL4"
      },
      "source": [
        "#verifica uma condição e exibe uma mensagem "
      ],
      "execution_count": 42,
      "outputs": []
    },
    {
      "cell_type": "code",
      "metadata": {
        "colab": {
          "base_uri": "https://localhost:8080/"
        },
        "id": "K1n7NLZ0gKCY",
        "outputId": "341f5795-08e4-4055-a9b2-0bf1803fcf07"
      },
      "source": [
        "idade = 20\n",
        "\n",
        "def verifica_se_pode_dirigir(idade):\n",
        "  if idade >= 18:\n",
        "    print('Tem permissão para dirigir')\n",
        "  else:\n",
        "    print('Não tem permissão para dirigir')\n",
        "\n",
        "verifica_se_pode_dirigir(idade)"
      ],
      "execution_count": 41,
      "outputs": [
        {
          "output_type": "stream",
          "text": [
            "Tem permissão para dirigir\n"
          ],
          "name": "stdout"
        }
      ]
    },
    {
      "cell_type": "markdown",
      "metadata": {
        "id": "5CR9SrX6j1pf"
      },
      "source": [
        "# Convertendo tipo para inteiro"
      ]
    },
    {
      "cell_type": "code",
      "metadata": {
        "id": "_wsBI0Ryj1G0"
      },
      "source": [
        "#Para converter um tipo para inteiro é preciso usar \"int\" para que o paython entenda que é um número e não uma \"str\" = texto"
      ],
      "execution_count": 43,
      "outputs": []
    },
    {
      "cell_type": "code",
      "metadata": {
        "colab": {
          "base_uri": "https://localhost:8080/"
        },
        "id": "XNFn_ZHSiew7",
        "outputId": "78f0266a-3475-4c81-cb23-890c59c166a3"
      },
      "source": [
        "def verifica_se_pode_dirifir_sem_parametro():\n",
        "  idade = input ('Qual sua idade? ')\n",
        "  idade = int(idade)\n",
        "  if idade >=18:\n",
        "    print('Tem permissão para dirigir')\n",
        "  else: \n",
        "    print('Não tem permissão para dirigir')\n",
        "\n",
        "verifica_se_pode_dirifir_sem_parametro()"
      ],
      "execution_count": 51,
      "outputs": [
        {
          "output_type": "stream",
          "text": [
            "Qual sua idade? 12\n",
            "Não tem permissão para dirigir\n"
          ],
          "name": "stdout"
        }
      ]
    },
    {
      "cell_type": "code",
      "metadata": {
        "id": "oD0dHcJok9ic"
      },
      "source": [
        ""
      ],
      "execution_count": 50,
      "outputs": []
    },
    {
      "cell_type": "markdown",
      "metadata": {
        "id": "Kl_Mz1nZmssP"
      },
      "source": [
        "# Exercício 2"
      ]
    },
    {
      "cell_type": "code",
      "metadata": {
        "id": "H7ZBRE0tmys3"
      },
      "source": [
        "#Dividindo espaço pelo tempo "
      ],
      "execution_count": null,
      "outputs": []
    },
    {
      "cell_type": "code",
      "metadata": {
        "colab": {
          "base_uri": "https://localhost:8080/"
        },
        "id": "bqWHs93NnE5n",
        "outputId": "33fc489b-5d63-47fc-f2d9-0691aa9321dd"
      },
      "source": [
        "\n",
        "def velocidade(espaco,tempo ):\n",
        "  v= espaco / tempo \n",
        "  print(f'Velocidade:{v} m/s')\n",
        "\n",
        "velocidade (100,20)\n",
        "\n"
      ],
      "execution_count": 59,
      "outputs": [
        {
          "output_type": "stream",
          "text": [
            "Velocidade:5.0 m/s\n"
          ],
          "name": "stdout"
        }
      ]
    },
    {
      "cell_type": "code",
      "metadata": {
        "id": "4tIDRdlfn2ky"
      },
      "source": [
        "#Descobrindo idade para tirar carteira"
      ],
      "execution_count": 60,
      "outputs": []
    },
    {
      "cell_type": "code",
      "metadata": {
        "colab": {
          "base_uri": "https://localhost:8080/"
        },
        "id": "sy_Nwi7opC_t",
        "outputId": "69eaa852-d822-4b88-9ca3-c7d28cf98ef7"
      },
      "source": [
        "def habilitacao():\n",
        "  idade = input('Qual sua idade? ')\n",
        "  idade = int(idade)\n",
        "  if idade >=18:\n",
        "    print('Pode tirar habilitação')\n",
        "  else:\n",
        "    print('Não pode tirar habilitação')\n",
        "\n",
        "habilitacao()\n",
        "    "
      ],
      "execution_count": 62,
      "outputs": [
        {
          "output_type": "stream",
          "text": [
            "Qual sua idade? 18\n",
            "Pode tirar habilitação\n"
          ],
          "name": "stdout"
        }
      ]
    },
    {
      "cell_type": "code",
      "metadata": {
        "id": "ZOsDr0s2pv7J"
      },
      "source": [
        ""
      ],
      "execution_count": null,
      "outputs": []
    },
    {
      "cell_type": "markdown",
      "metadata": {
        "id": "IpL6i8I4p_Sv"
      },
      "source": [
        "# Operadores do Python"
      ]
    },
    {
      "cell_type": "code",
      "metadata": {
        "id": "o8hzNOgEqDWo"
      },
      "source": [
        "# a == b\ta igual a b\n",
        "# a != b\ta diferente de b\n",
        "# a < b\ta menor do que b\n",
        "# a > b\ta maior do que b\n",
        "# a <= b\ta menor ou igual a b\n",
        "# a >= b\ta maior ou igual a b"
      ],
      "execution_count": 63,
      "outputs": []
    },
    {
      "cell_type": "markdown",
      "metadata": {
        "id": "fpz3IJx-SDTb"
      },
      "source": [
        "# Listas"
      ]
    },
    {
      "cell_type": "code",
      "metadata": {
        "id": "k6idfT6-XZQu"
      },
      "source": [
        "idades = [18, 22, 15, 50]"
      ],
      "execution_count": 2,
      "outputs": []
    },
    {
      "cell_type": "code",
      "metadata": {
        "colab": {
          "base_uri": "https://localhost:8080/"
        },
        "id": "-AkLNongXdHa",
        "outputId": "a6a3ee05-c53f-4127-8cbc-853e53495718"
      },
      "source": [
        "type(idades)"
      ],
      "execution_count": 3,
      "outputs": [
        {
          "output_type": "execute_result",
          "data": {
            "text/plain": [
              "list"
            ]
          },
          "metadata": {
            "tags": []
          },
          "execution_count": 3
        }
      ]
    },
    {
      "cell_type": "code",
      "metadata": {
        "colab": {
          "base_uri": "https://localhost:8080/"
        },
        "id": "_g-_q4aCXgF2",
        "outputId": "5897c50c-f8ee-4137-aca1-d168d64477b7"
      },
      "source": [
        "idades [2]"
      ],
      "execution_count": 4,
      "outputs": [
        {
          "output_type": "execute_result",
          "data": {
            "text/plain": [
              "15"
            ]
          },
          "metadata": {
            "tags": []
          },
          "execution_count": 4
        }
      ]
    },
    {
      "cell_type": "code",
      "metadata": {
        "colab": {
          "base_uri": "https://localhost:8080/"
        },
        "id": "Tyg1THhoXlVg",
        "outputId": "e66aa85c-85da-4f37-d3af-cb83977a800d"
      },
      "source": [
        "idades [0]"
      ],
      "execution_count": 5,
      "outputs": [
        {
          "output_type": "execute_result",
          "data": {
            "text/plain": [
              "18"
            ]
          },
          "metadata": {
            "tags": []
          },
          "execution_count": 5
        }
      ]
    },
    {
      "cell_type": "code",
      "metadata": {
        "colab": {
          "base_uri": "https://localhost:8080/"
        },
        "id": "EWUjrXkDXpAl",
        "outputId": "0c3044bb-0446-4224-9c25-decf7920f355"
      },
      "source": [
        "idades [0:2]"
      ],
      "execution_count": 6,
      "outputs": [
        {
          "output_type": "execute_result",
          "data": {
            "text/plain": [
              "[18, 22]"
            ]
          },
          "metadata": {
            "tags": []
          },
          "execution_count": 6
        }
      ]
    },
    {
      "cell_type": "code",
      "metadata": {
        "colab": {
          "base_uri": "https://localhost:8080/"
        },
        "id": "KnEFqTf1XtPo",
        "outputId": "c1d30878-0d04-4abc-d37a-3528e4ad158f"
      },
      "source": [
        "idades [1:]"
      ],
      "execution_count": 7,
      "outputs": [
        {
          "output_type": "execute_result",
          "data": {
            "text/plain": [
              "[22, 15, 50]"
            ]
          },
          "metadata": {
            "tags": []
          },
          "execution_count": 7
        }
      ]
    },
    {
      "cell_type": "code",
      "metadata": {
        "id": "KvdS67MyX5yH"
      },
      "source": [
        ""
      ],
      "execution_count": null,
      "outputs": []
    },
    {
      "cell_type": "markdown",
      "metadata": {
        "id": "KUQsCMdiYD93"
      },
      "source": [
        "# Laços e loops"
      ]
    },
    {
      "cell_type": "code",
      "metadata": {
        "colab": {
          "base_uri": "https://localhost:8080/"
        },
        "id": "op6rpJbZYN6S",
        "outputId": "d4d2d8e2-e194-499b-9ea5-2ab71e2e7cc3"
      },
      "source": [
        "idades"
      ],
      "execution_count": 9,
      "outputs": [
        {
          "output_type": "execute_result",
          "data": {
            "text/plain": [
              "[18, 22, 15, 50]"
            ]
          },
          "metadata": {
            "tags": []
          },
          "execution_count": 9
        }
      ]
    },
    {
      "cell_type": "code",
      "metadata": {
        "id": "v718OHGRaS43"
      },
      "source": [
        ""
      ],
      "execution_count": null,
      "outputs": []
    },
    {
      "cell_type": "code",
      "metadata": {
        "colab": {
          "base_uri": "https://localhost:8080/"
        },
        "id": "MePg_wCEZCnZ",
        "outputId": "d8ee7463-a439-4487-cc24-6afce02777d5"
      },
      "source": [
        "#for fora da função\n",
        "\n",
        "def verifica_se_pode_dirigir(idade):\n",
        "  if idade >= 18:\n",
        "    print(f'{idade} anos de idade, TEM permissão para dirigir')\n",
        "  else:\n",
        "    print(f'{idade} anos de idade, NÃO TEM permissão para dirigir')\n",
        "\n",
        "for idade in idades:\n",
        "  verifica_se_pode_dirigir(idade)\n",
        "#para(for) idade na nossa (in) lista (idade) verificar se pode dirigir"
      ],
      "execution_count": 14,
      "outputs": [
        {
          "output_type": "stream",
          "text": [
            "18 anos de idade, TEM permissão para dirigir\n",
            "22 anos de idade, TEM permissão para dirigir\n",
            "15 anos de idade, NÃO TEM permissão para dirigir\n",
            "50 anos de idade, TEM permissão para dirigir\n"
          ],
          "name": "stdout"
        }
      ]
    },
    {
      "cell_type": "code",
      "metadata": {
        "colab": {
          "base_uri": "https://localhost:8080/"
        },
        "id": "24bU6ucYZssg",
        "outputId": "27e333dd-2109-46a0-9fc7-0d759e3cd477"
      },
      "source": [
        "#for dentro da função \n",
        "\n",
        "def verifica_se_pode_dirigir(idades):\n",
        "  for idade in idades:\n",
        "    if idade >= 18:\n",
        "      print(f'{idade} anos de idade, TEM permissão para dirigir')\n",
        "    else:\n",
        "      print(f'{idade} anos de idade, NÃO TEM permissão para dirigir')\n",
        "\n",
        "verifica_se_pode_dirigir(idades)\n"
      ],
      "execution_count": 16,
      "outputs": [
        {
          "output_type": "stream",
          "text": [
            "18 anos de idade, TEM permissão para dirigir\n",
            "22 anos de idade, TEM permissão para dirigir\n",
            "15 anos de idade, NÃO TEM permissão para dirigir\n",
            "50 anos de idade, TEM permissão para dirigir\n"
          ],
          "name": "stdout"
        }
      ]
    },
    {
      "cell_type": "code",
      "metadata": {
        "id": "8Gv35jNLaDYn"
      },
      "source": [
        ""
      ],
      "execution_count": null,
      "outputs": []
    },
    {
      "cell_type": "markdown",
      "metadata": {
        "id": "Scnoeh__g9Zu"
      },
      "source": [
        ""
      ]
    },
    {
      "cell_type": "markdown",
      "metadata": {
        "id": "zIdMgvnRhCr0"
      },
      "source": [
        "# Tipos booleano\n",
        "\n"
      ]
    },
    {
      "cell_type": "code",
      "metadata": {
        "id": "NIf83lkFhJ9Z"
      },
      "source": [
        "#Vamos usar o booleano para verificar se uma informação é verdadeira ou falsa "
      ],
      "execution_count": 17,
      "outputs": []
    },
    {
      "cell_type": "code",
      "metadata": {
        "colab": {
          "base_uri": "https://localhost:8080/"
        },
        "id": "X1b1Xc4rhkPx",
        "outputId": "d18e92c8-4178-4e2e-b126-c93417d5c33f"
      },
      "source": [
        "idade = 18\n",
        "idade >= 18"
      ],
      "execution_count": 18,
      "outputs": [
        {
          "output_type": "execute_result",
          "data": {
            "text/plain": [
              "True"
            ]
          },
          "metadata": {
            "tags": []
          },
          "execution_count": 18
        }
      ]
    },
    {
      "cell_type": "code",
      "metadata": {
        "colab": {
          "base_uri": "https://localhost:8080/"
        },
        "id": "pF5W5YXqhyNk",
        "outputId": "5ba3ebb6-8116-429b-91d3-13b294c20129"
      },
      "source": [
        "idade = 15 \n",
        "idade >= 18"
      ],
      "execution_count": 20,
      "outputs": [
        {
          "output_type": "execute_result",
          "data": {
            "text/plain": [
              "False"
            ]
          },
          "metadata": {
            "tags": []
          },
          "execution_count": 20
        }
      ]
    },
    {
      "cell_type": "code",
      "metadata": {
        "id": "lFlZal5bh00p"
      },
      "source": [
        "permissoes = []\n",
        "idades =[20, 14, 40]\n",
        "\n",
        "def verifica_se_pode_dirigir(idades, permissoes):\n",
        "  for idade in idades:\n",
        "    if idade >=18:\n",
        "      permissoes.append(True) #usamos .append quando queremos adicionar valor em uma lista de permissões\n",
        "    else: \n",
        "      permissoes.append(False)\n",
        "\n",
        "verifica_se_pode_dirigir(idades, permissoes)\n"
      ],
      "execution_count": 21,
      "outputs": []
    },
    {
      "cell_type": "code",
      "metadata": {
        "colab": {
          "base_uri": "https://localhost:8080/"
        },
        "id": "xnrfzSLoi_x5",
        "outputId": "cdfa5289-868a-41a7-bd59-0de55725f2d4"
      },
      "source": [
        "permissoes"
      ],
      "execution_count": 22,
      "outputs": [
        {
          "output_type": "execute_result",
          "data": {
            "text/plain": [
              "[True, False, True]"
            ]
          },
          "metadata": {
            "tags": []
          },
          "execution_count": 22
        }
      ]
    },
    {
      "cell_type": "code",
      "metadata": {
        "colab": {
          "base_uri": "https://localhost:8080/"
        },
        "id": "ahvwM-QtjDV5",
        "outputId": "e900b173-598b-490a-cbf6-6a63caa98b28"
      },
      "source": [
        "for permissao in permissoes:\n",
        "  if permissao == True: #um igual é usando para atribuir valor; dois iguais é usado para comparar\n",
        "    print('Tem permissão para dirigir')\n",
        "  else: \n",
        "    print('Não tem permissão para dirigir')"
      ],
      "execution_count": 24,
      "outputs": [
        {
          "output_type": "stream",
          "text": [
            "Tem permissão para dirigir\n",
            "Não tem permissão para dirigir\n",
            "Tem permissão para dirigir\n"
          ],
          "name": "stdout"
        }
      ]
    },
    {
      "cell_type": "code",
      "metadata": {
        "id": "axh2ud8gjoPQ"
      },
      "source": [
        ""
      ],
      "execution_count": null,
      "outputs": []
    },
    {
      "cell_type": "markdown",
      "metadata": {
        "id": "ylvG088-kWIG"
      },
      "source": [
        "# Exercício 3"
      ]
    },
    {
      "cell_type": "code",
      "metadata": {
        "id": "cjWoD3EhkU2I"
      },
      "source": [
        "#Exibindo a frase da Alura na ordem correta \n",
        "\n",
        "#Frase que deve ser exibida: Curso de Tecnologia e Negócios Digitais\n",
        "\n",
        "frase_alura = ['Digitais','e ','Negócios ', 'de ', 'Tecnologia ', 'Cursos ']\n",
        "\n"
      ],
      "execution_count": 33,
      "outputs": []
    },
    {
      "cell_type": "code",
      "metadata": {
        "colab": {
          "base_uri": "https://localhost:8080/",
          "height": 34
        },
        "id": "gkJhhtG7lbVI",
        "outputId": "d44e8946-9dc7-4080-ef1c-a9568efd090b"
      },
      "source": [
        "frase_alura [5] + frase_alura [3] + frase_alura [4] + frase_alura [1] + frase_alura [2] + frase_alura [0]"
      ],
      "execution_count": 34,
      "outputs": [
        {
          "output_type": "execute_result",
          "data": {
            "application/vnd.google.colaboratory.intrinsic+json": {
              "type": "string"
            },
            "text/plain": [
              "'Cursos de Tecnologia e Negócios Digitais'"
            ]
          },
          "metadata": {
            "tags": []
          },
          "execution_count": 34
        }
      ]
    },
    {
      "cell_type": "code",
      "metadata": {
        "id": "h-hS0eG2lgPG"
      },
      "source": [
        "# usando if e else \n"
      ],
      "execution_count": 35,
      "outputs": []
    },
    {
      "cell_type": "code",
      "metadata": {
        "colab": {
          "base_uri": "https://localhost:8080/"
        },
        "id": "VhcWSKlCm_uF",
        "outputId": "603e7f1b-3a72-40ed-e0e3-9cfa53cdb618"
      },
      "source": [
        "a=2\n",
        "\n",
        "if a < 2:\n",
        "  a = a + 1\n",
        "else:\n",
        "  a = a + 2\n",
        "if a < 4:\n",
        "  a = a - 4\n",
        "else: \n",
        "  a = a + 6\n",
        "\n",
        "a"
      ],
      "execution_count": 40,
      "outputs": [
        {
          "output_type": "execute_result",
          "data": {
            "text/plain": [
              "10"
            ]
          },
          "metadata": {
            "tags": []
          },
          "execution_count": 40
        }
      ]
    },
    {
      "cell_type": "code",
      "metadata": {
        "id": "_pyklNK2nUg5"
      },
      "source": [
        ""
      ],
      "execution_count": 37,
      "outputs": []
    },
    {
      "cell_type": "markdown",
      "metadata": {
        "id": "kVrr1CQi9iRJ"
      },
      "source": [
        ""
      ]
    },
    {
      "cell_type": "markdown",
      "metadata": {
        "id": "Yvzo5ZnL9kGC"
      },
      "source": [
        "# Tipos em uma lista"
      ]
    },
    {
      "cell_type": "code",
      "metadata": {
        "colab": {
          "base_uri": "https://localhost:8080/"
        },
        "id": "LXBWGFuH9rI2",
        "outputId": "e69d5779-ddbc-4d4c-c337-3310df1c449e"
      },
      "source": [
        "lista = ['Joana', 24, True, '18']\n",
        "\n",
        "# É interessante que quando definirmos um tema para a nossa lista, ele seja mantido para evitar ruído na compreensão. Por exemplo, se o nome da nossa lista é pessoa e inserirmos os nomes Guilherme e Luis, podemos gerar confusão.\n",
        "\n",
        "for elemento in lista:\n",
        "    print(f'O elemento {elemento} é do tipo: ', type(elemento))"
      ],
      "execution_count": 2,
      "outputs": [
        {
          "output_type": "stream",
          "text": [
            "O elemento Joana é do tipo:  <class 'str'>\n",
            "O elemento 24 é do tipo:  <class 'int'>\n",
            "O elemento True é do tipo:  <class 'bool'>\n",
            "O elemento 18 é do tipo:  <class 'str'>\n"
          ],
          "name": "stdout"
        }
      ]
    },
    {
      "cell_type": "code",
      "metadata": {
        "id": "_TyPwCvQAkMP"
      },
      "source": [
        ""
      ],
      "execution_count": null,
      "outputs": []
    },
    {
      "cell_type": "code",
      "metadata": {
        "id": "tBPtADcWKYZP"
      },
      "source": [
        ""
      ],
      "execution_count": null,
      "outputs": []
    },
    {
      "cell_type": "markdown",
      "metadata": {
        "id": "-Klq2BUlKa2D"
      },
      "source": [
        "# Import"
      ]
    },
    {
      "cell_type": "code",
      "metadata": {
        "id": "BO-JZ-4QkZx8"
      },
      "source": [
        "from random import randrange, seed"
      ],
      "execution_count": 25,
      "outputs": []
    },
    {
      "cell_type": "code",
      "metadata": {
        "id": "e3sdYamwnH9E"
      },
      "source": [
        "seed(11)"
      ],
      "execution_count": 26,
      "outputs": []
    },
    {
      "cell_type": "code",
      "metadata": {
        "colab": {
          "base_uri": "https://localhost:8080/"
        },
        "id": "WC8pzsu3kbV0",
        "outputId": "0e64b727-30cf-4d8a-9165-f622f7733934"
      },
      "source": [
        "randrange(0,11)"
      ],
      "execution_count": 27,
      "outputs": [
        {
          "output_type": "execute_result",
          "data": {
            "text/plain": [
              "7"
            ]
          },
          "metadata": {
            "tags": []
          },
          "execution_count": 27
        }
      ]
    },
    {
      "cell_type": "code",
      "metadata": {
        "colab": {
          "base_uri": "https://localhost:8080/"
        },
        "id": "aZqwgHjLkcx1",
        "outputId": "c3811dd4-5b22-4ca0-da86-c1cede409080"
      },
      "source": [
        "notas_matematica = []\n",
        "\n",
        "for notas in range(8): \n",
        "  notas_matematica.append(randrange(0,11))\n",
        "\n",
        "notas_matematica"
      ],
      "execution_count": 28,
      "outputs": [
        {
          "output_type": "execute_result",
          "data": {
            "text/plain": [
              "[8, 7, 7, 8, 9, 3, 2, 8]"
            ]
          },
          "metadata": {
            "tags": []
          },
          "execution_count": 28
        }
      ]
    },
    {
      "cell_type": "code",
      "metadata": {
        "colab": {
          "base_uri": "https://localhost:8080/"
        },
        "id": "-uPejmehk2EN",
        "outputId": "2f45786f-7ac1-4e89-e7ff-d513fbf37776"
      },
      "source": [
        "len(notas_matematica)"
      ],
      "execution_count": 29,
      "outputs": [
        {
          "output_type": "execute_result",
          "data": {
            "text/plain": [
              "8"
            ]
          },
          "metadata": {
            "tags": []
          },
          "execution_count": 29
        }
      ]
    },
    {
      "cell_type": "markdown",
      "metadata": {
        "id": "Hh0_YpkJoEhC"
      },
      "source": [
        "# Exercício 4"
      ]
    },
    {
      "cell_type": "code",
      "metadata": {
        "id": "tD-0b6aKmw8K"
      },
      "source": [
        "#Descobrindo o tipo de elementos em uma lista\n",
        "\n",
        "lista = ['int', False, True, '18', 2020]\n"
      ],
      "execution_count": 30,
      "outputs": []
    },
    {
      "cell_type": "code",
      "metadata": {
        "colab": {
          "base_uri": "https://localhost:8080/"
        },
        "id": "rJ12TmEwolQc",
        "outputId": "a00ad28f-f0dd-4b83-ed4f-3210180102e2"
      },
      "source": [
        "for elemento in lista:\n",
        " print(type(elemento))"
      ],
      "execution_count": 31,
      "outputs": [
        {
          "output_type": "stream",
          "text": [
            "<class 'str'>\n",
            "<class 'bool'>\n",
            "<class 'bool'>\n",
            "<class 'str'>\n",
            "<class 'int'>\n"
          ],
          "name": "stdout"
        }
      ]
    },
    {
      "cell_type": "code",
      "metadata": {
        "id": "miO9nbFcom84"
      },
      "source": [
        ""
      ],
      "execution_count": null,
      "outputs": []
    },
    {
      "cell_type": "markdown",
      "metadata": {
        "id": "R16yasF3qOud"
      },
      "source": [
        ""
      ]
    },
    {
      "cell_type": "markdown",
      "metadata": {
        "id": "NnKSnusPqP7h"
      },
      "source": [
        "# Matplotlib"
      ]
    },
    {
      "cell_type": "code",
      "metadata": {
        "id": "hLJzG3w-qWuH"
      },
      "source": [
        "#Matplotlib é uma biblioteca usada para gerar um gráfico"
      ],
      "execution_count": null,
      "outputs": []
    },
    {
      "cell_type": "code",
      "metadata": {
        "id": "GB2mAIhwqmwx"
      },
      "source": [
        "import matplotlib.pyplot as plt #plt é o apaelido dado para biblioteca para n precisar escrever o nome todo"
      ],
      "execution_count": 32,
      "outputs": []
    },
    {
      "cell_type": "code",
      "metadata": {
        "colab": {
          "base_uri": "https://localhost:8080/",
          "height": 294
        },
        "id": "CosqaxlKrJsv",
        "outputId": "e713b209-ac53-4b04-f546-eed90e199423"
      },
      "source": [
        "x = list(range(1, 9)) #números do eixo x\n",
        "y = notas_matematica #números do eixo y\n",
        "\n",
        "plt.plot(x, y, marker = 'o') #exibindo o gráfico, o marker é usado para colocar as bolinhas no gráfico \n",
        "plt.title('Notas de matématica') #título da tabela\n",
        "plt.xlabel ('Provas') #Quantidade de provas feitS \n",
        "plt.ylabel ('Notas') #Notas nas provas \n",
        "plt.show() #usado para ocultar os outros dados que não quero exibir\n"
      ],
      "execution_count": 37,
      "outputs": [
        {
          "output_type": "display_data",
          "data": {
            "image/png": "[encoded data removed]",
            "text/plain": [
              "<Figure size 432x288 with 1 Axes>"
            ]
          },
          "metadata": {
            "tags": [],
            "needs_background": "light"
          }
        }
      ]
    },
    {
      "cell_type": "code",
      "metadata": {
        "id": "TPSIpyNJrgot"
      },
      "source": [
        ""
      ],
      "execution_count": null,
      "outputs": []
    },
    {
      "cell_type": "markdown",
      "metadata": {
        "id": "DsYqWyr5tSf3"
      },
      "source": [
        "# Exercício 5"
      ]
    },
    {
      "cell_type": "code",
      "metadata": {
        "id": "sHoNQ2VStU3A"
      },
      "source": [
        "import matplotlib.pyplot as plt\n",
        "\n",
        "notas_matematica = ['Matemática',8,7,6,6,7,7,8,10]\n",
        "notas_portugues = ['Português',9,9,9,8,5,6,8,5]\n",
        "notas_geografia = ['Geografia',10,10,6,7,7,7,8,7]\n",
        "\n",
        "notas = [notas_matematica, notas_portugues, notas_geografia]"
      ],
      "execution_count": 38,
      "outputs": []
    },
    {
      "cell_type": "code",
      "metadata": {
        "colab": {
          "base_uri": "https://localhost:8080/",
          "height": 850
        },
        "id": "T3XJnXUftXFi",
        "outputId": "21fc5a0f-e4a8-4011-a2ad-aa91dc5dba74"
      },
      "source": [
        "for nota in notas:\n",
        "  x: list(range(1,9))\n",
        "  y: nota [1:]\n",
        "  plt.plot(x, y, marker= 'o')\n",
        "  plt.xlabel ('Provas')\n",
        "  plt.ylabel ('Notas')\n",
        "  plt.title(nota[0])\n",
        "  plt.show ()\n",
        " "
      ],
      "execution_count": 44,
      "outputs": [
        {
          "output_type": "display_data",
          "data": {
            "image/png": "[encoded data removed]",
            "text/plain": [
              "<Figure size 432x288 with 1 Axes>"
            ]
          },
          "metadata": {
            "tags": [],
            "needs_background": "light"
          }
        },
        {
          "output_type": "display_data",
          "data": {
            "image/png": "[encoded data removed]",
            "text/plain": [
              "<Figure size 432x288 with 1 Axes>"
            ]
          },
          "metadata": {
            "tags": [],
            "needs_background": "light"
          }
        },
        {
          "output_type": "display_data",
          "data": {
            "image/png": "[encoded data removed]",
            "text/plain": [
              "<Figure size 432x288 with 1 Axes>"
            ]
          },
          "metadata": {
            "tags": [],
            "needs_background": "light"
          }
        }
      ]
    },
    {
      "cell_type": "code",
      "metadata": {
        "id": "XTG0Za5Vu-Ii"
      },
      "source": [
        ""
      ],
      "execution_count": null,
      "outputs": []
    }
  ]
}